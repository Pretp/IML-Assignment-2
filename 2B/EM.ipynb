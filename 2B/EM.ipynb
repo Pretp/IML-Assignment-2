{
 "cells": [
  {
   "cell_type": "markdown",
   "metadata": {},
   "source": [
    "Imports"
   ]
  },
  {
   "cell_type": "code",
   "execution_count": null,
   "metadata": {},
   "outputs": [],
   "source": [
    "import numpy as np\n",
    "from scipy.stats import norm"
   ]
  },
  {
   "cell_type": "markdown",
   "metadata": {},
   "source": [
    "data entry and initialisation"
   ]
  },
  {
   "cell_type": "code",
   "execution_count": null,
   "metadata": {},
   "outputs": [],
   "source": [
    "\n",
    "X = np.array([-0.39, 0.12, 0.94, 1.67, 1.76, 2.44, 3.72, 4.28, 4.92, 5.53,\n",
    "              0.06, 0.48, 1.01, 1.68, 1.80, 3.25, 4.12, 4.60, 5.28, 6.22])\n",
    "\n",
    "# Initialization\n",
    "np.random.seed(42)\n",
    "mu = np.random.choice(X, 2)         # Randomly choose 2 data points as initial means\n",
    "sigma = np.array([1.0, 1.0])        # Initial variances\n",
    "phi = np.array([0.5, 0.5])           # phi values as equally likely\n",
    "n = len(X)\n",
    "k = 2                               # Number of Gaussians"
   ]
  },
  {
   "cell_type": "markdown",
   "metadata": {},
   "source": [
    "Log likelihood calculation for normal distribution given parameters:"
   ]
  },
  {
   "cell_type": "code",
   "execution_count": null,
   "metadata": {},
   "outputs": [],
   "source": [
    "def compute_log_likelihood(X, mu, sigma, pi):\n",
    "    return np.sum(np.log(pi[0] * norm.pdf(X, mu[0], np.sqrt(sigma[0])) +\n",
    "                         pi[1] * norm.pdf(X, mu[1], np.sqrt(sigma[1]))))\n"
   ]
  },
  {
   "cell_type": "markdown",
   "metadata": {},
   "source": [
    "Now, the alogirthm"
   ]
  },
  {
   "cell_type": "code",
   "execution_count": null,
   "metadata": {},
   "outputs": [],
   "source": [
    "\n",
    "\n",
    "# EM Algorithm\n",
    "max_iter = 200                  \n",
    "tol = 1e-6\n",
    "log_likelihood_old = -np.inf    #initialisation for convergence check\n",
    "\n",
    "for iteration in range(max_iter):\n",
    "    # E-step: compute responsibilities\n",
    "    gamma = np.zeros((n, k))\n",
    "    for j in range(k):\n",
    "        gamma[:, j] = phi[j] * norm.pdf(X, mu[j], np.sqrt(sigma[j]))\n",
    "    gamma /= gamma.sum(axis=1, keepdims=True)\n",
    "\n",
    "    # M-step: update parameters\n",
    "    N_k = gamma.sum(axis=0)\n",
    "    for j in range(k):\n",
    "        mu[j] = np.sum(gamma[:, j] * X) / N_k[j]\n",
    "        sigma[j] = np.sum(gamma[:, j] * (X - mu[j]) ** 2) / N_k[j]\n",
    "        phi[j] = N_k[j] / n\n",
    "\n",
    "    # Compute log-likelihood\n",
    "    log_likelihood_new = compute_log_likelihood(X, mu, sigma, phi)\n",
    "    if np.abs(log_likelihood_new - log_likelihood_old) < tol:\n",
    "        break\n",
    "    log_likelihood_old = log_likelihood_new\n",
    "print(f\"Converged in {iteration + 1} iterations.\")\n",
    "\n",
    "\n",
    "# Output the estimated parameters\n",
    "for i in range(k):\n",
    "    print(f\"Gaussian {i+1}:\")\n",
    "    print(f\"  Mean      = {mu[i]:.4f}\")\n",
    "    print(f\"  Variance  = {sigma[i]:.4f}\")\n",
    "    print(f\"  Mixing coefficient = {pi[i]:.4f}\")\n"
   ]
  },
  {
   "cell_type": "markdown",
   "metadata": {},
   "source": []
  }
 ],
 "metadata": {
  "language_info": {
   "name": "python"
  }
 },
 "nbformat": 4,
 "nbformat_minor": 2
}
