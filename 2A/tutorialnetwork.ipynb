{
 "cells": [
  {
   "cell_type": "markdown",
   "metadata": {},
   "source": [
    "Imports"
   ]
  },
  {
   "cell_type": "code",
   "execution_count": 8,
   "metadata": {},
   "outputs": [],
   "source": [
    "import torch\n",
    "import torchvision\n",
    "import torchvision.transforms as transforms\n",
    "import torch.nn as nn\n",
    "import torch.nn.functional as F\n",
    "import torch.optim as optim\n",
    "import matplotlib.pyplot as plt\n",
    "import numpy as np"
   ]
  },
  {
   "cell_type": "markdown",
   "metadata": {},
   "source": [
    "loading dataset"
   ]
  },
  {
   "cell_type": "code",
   "execution_count": 4,
   "metadata": {},
   "outputs": [
    {
     "name": "stderr",
     "output_type": "stream",
     "text": [
      "100%|██████████| 170M/170M [00:21<00:00, 8.09MB/s] \n"
     ]
    }
   ],
   "source": [
    "transform = transforms.Compose(\n",
    "    # convert PIL to tensor\n",
    "    [transforms.ToTensor(),\n",
    "     transforms.Normalize((0.5, 0.5, 0.5), (0.5, 0.5, 0.5))]) \n",
    "    # brings each pixel's RGB conponent to (-1,1) range\n",
    "\n",
    "batch_size = 4 # 4 images processed at a time\n",
    "\n",
    "trainset = torchvision.datasets.CIFAR10(root='./data', train=True,\n",
    "                                        download=True, transform=transform) \n",
    "# gets the images and applies predefined transformation\n",
    "trainloader = torch.utils.data.DataLoader(trainset, batch_size=batch_size,\n",
    "                                          shuffle=True, num_workers=2)\n",
    "# loads 4 images at a time\n",
    "\n",
    "testset = torchvision.datasets.CIFAR10(root='./data', train=False,\n",
    "                                       download=True, transform=transform)\n",
    "testloader = torch.utils.data.DataLoader(testset, batch_size=batch_size,\n",
    "                                         shuffle=False, num_workers=2)\n",
    "\n",
    "classes = ('plane', 'car', 'bird', 'cat',\n",
    "           'deer', 'dog', 'frog', 'horse', 'ship', 'truck')"
   ]
  },
  {
   "cell_type": "markdown",
   "metadata": {},
   "source": [
    "we can explore the dataset as well, the idea is to classify pixelated images of animals and some means of transport as the their respective labellings, its a labelled dataset with 10 classes"
   ]
  },
  {
   "cell_type": "code",
   "execution_count": 6,
   "metadata": {},
   "outputs": [
    {
     "data": {
      "image/png": "[encoded data removed]",
      "text/plain": [
       "<Figure size 640x480 with 1 Axes>"
      ]
     },
     "metadata": {},
     "output_type": "display_data"
    },
    {
     "name": "stdout",
     "output_type": "stream",
     "text": [
      "horse frog  plane deer \n"
     ]
    }
   ],
   "source": [
    "\n",
    "\n",
    "def imshow(img):\n",
    "    img = img / 2 + 0.5     # unnormalize to actually show the real pixel value\n",
    "    npimg = img.numpy() # converting img pixels into numpy darray\n",
    "    plt.imshow(np.transpose(npimg, (1, 2, 0))) # transpose for correct orientation\n",
    "    plt.show()\n",
    "\n",
    "\n",
    "# get some random training images\n",
    "dataiter = iter(trainloader)\n",
    "images, labels = next(dataiter)\n",
    "\n",
    "# show images\n",
    "imshow(torchvision.utils.make_grid(images))\n",
    "# print labels\n",
    "print(' '.join(f'{classes[labels[j]]:5s}' for j in range(batch_size)))"
   ]
  },
  {
   "cell_type": "markdown",
   "metadata": {},
   "source": [
    "looks good, now let's make the machine learn"
   ]
  },
  {
   "cell_type": "code",
   "execution_count": 9,
   "metadata": {},
   "outputs": [],
   "source": [
    "\n",
    "class Net(nn.Module):\n",
    "    def __init__(self):\n",
    "        super().__init__() \n",
    "        self.conv1 = nn.Conv2d(3, 6, 5) \n",
    "        # layer 1: a convolution with 3 input channles (RGB), have 6 filters to extract features (6 feature maps),\n",
    "        # each being 5 * 5 in dimension, this makes output from this layers 28 by 28 in dimension\n",
    "        self.pool = nn.MaxPool2d(2, 2)\n",
    "        # downsampling, i.e. reducing spatial dimension of kernel from 5 by 5 to 2 by 2 (max value), making output 14 by 14\n",
    "        self.conv2 = nn.Conv2d(6, 16, 5) \n",
    "        # input to conv2: (6, 14, 14) dimension\n",
    "        # another convolution with 6 feauture maps, now 16 feature maps with 5 by 5 kernels\n",
    "        # output: [(16, 10, 10)]\n",
    "        self.fc1 = nn.Linear(16 * 5 * 5, 120)\n",
    "        # fully connected layer with  16 feature maps of 5 by 5 as input, containing 120 neurons\n",
    "        self.fc2 = nn.Linear(120, 84)\n",
    "        # fully connected layer with 120 neurons as inputs, 84 as output\n",
    "        self.fc3 = nn.Linear(84, 10)\n",
    "        # final layer with 84 as input, and output to 10 class values\n",
    "\n",
    "\n",
    "# the forward pass function uses the modules defined above to construct the neural network\n",
    "    def forward(self, x):\n",
    "        x = self.pool(F.relu(self.conv1(x)))\n",
    "        # first convolution, ReLU, maxPool\n",
    "        \n",
    "        x = self.pool(F.relu(self.conv2(x)))\n",
    "        # second convolution, ReLu, maxPool\n",
    "        \n",
    "        x = torch.flatten(x, 1) # flatten all dimensions except batch\n",
    "        # this makes 16 * 5 * 5 into one dimension of 400\n",
    "        \n",
    "        x = F.relu(self.fc1(x))\n",
    "        # first linear layer, and then ReLU\n",
    "        \n",
    "        x = F.relu(self.fc2(x))\n",
    "        # second Linear layer, then ReLU\n",
    "        \n",
    "        x = self.fc3(x)\n",
    "        # final output layer with raw scores\n",
    "        \n",
    "        return x\n",
    "\n",
    "\n",
    "net = Net() "
   ]
  },
  {
   "cell_type": "markdown",
   "metadata": {},
   "source": [
    "One thing so far slightly lost on me is the fact that the final scores are raw, but cross entropy needs 0-1 probabililty values. Maybe we will apply softmax within the loss function"
   ]
  },
  {
   "cell_type": "code",
   "execution_count": 10,
   "metadata": {},
   "outputs": [],
   "source": [
    "criterion = nn.CrossEntropyLoss() \n",
    "# this CE Loss has to include Softmax within it, a quick google search confirmed that it does\n",
    "\n",
    "optimizer = optim.SGD(net.parameters(), lr=0.001, momentum=0.9)\n",
    "# regular SGD with batches of 4, ADAM learning method with momentum and supposedly backprop written into it\n"
   ]
  },
  {
   "cell_type": "markdown",
   "metadata": {},
   "source": [
    "Now, for actual training loop"
   ]
  },
  {
   "cell_type": "code",
   "execution_count": 11,
   "metadata": {},
   "outputs": [
    {
     "name": "stdout",
     "output_type": "stream",
     "text": [
      "[1,  2000] loss: 2.204\n",
      "[1,  4000] loss: 1.877\n",
      "[1,  6000] loss: 1.684\n",
      "[1,  8000] loss: 1.571\n",
      "[1, 10000] loss: 1.509\n",
      "[1, 12000] loss: 1.421\n",
      "[2,  2000] loss: 1.366\n",
      "[2,  4000] loss: 1.340\n",
      "[2,  6000] loss: 1.338\n",
      "[2,  8000] loss: 1.270\n",
      "[2, 10000] loss: 1.277\n",
      "[2, 12000] loss: 1.245\n",
      "Finished Training\n"
     ]
    }
   ],
   "source": [
    "for epoch in range(2):  # loop over the dataset 2 times\n",
    "\n",
    "    running_loss = 0.0\n",
    "    for i, data in enumerate(trainloader, 0):\n",
    "        # get the inputs; data is a list of [inputs, labels]\n",
    "        inputs, labels = data\n",
    "        # inputs is dim (batch_size * 3 * 32 * 32) label is dim (1)\n",
    "\n",
    "        # zero the parameter gradients as PyTorch accumulates gradients by default\n",
    "        optimizer.zero_grad()\n",
    "\n",
    "        # forward + backward + optimize\n",
    "        outputs = net(inputs)\n",
    "        loss = criterion(outputs, labels)\n",
    "        loss.backward()\n",
    "        optimizer.step()\n",
    "\n",
    "        # print statistics\n",
    "        running_loss += loss.item()\n",
    "        if i % 2000 == 1999:    # print every 2000 mini-batches\n",
    "            print(f'[{epoch + 1}, {i + 1:5d}] loss: {running_loss / 2000:.3f}')\n",
    "            running_loss = 0.0\n",
    "\n",
    "print('Finished Training')"
   ]
  },
  {
   "cell_type": "markdown",
   "metadata": {},
   "source": [
    "Loss went up from (2, 8000) to (8, 10,000) probably because of momentum, but overall loss less than tutorial probably due \"enumerate\" picking data points randomly from the dataset which can lead to different convergence rates"
   ]
  },
  {
   "cell_type": "code",
   "execution_count": 12,
   "metadata": {},
   "outputs": [],
   "source": [
    "#saving the model\n",
    "\n",
    "PATH = './cifar_net.pth'\n",
    "torch.save(net.state_dict(), PATH)\n"
   ]
  },
  {
   "cell_type": "markdown",
   "metadata": {},
   "source": [
    "Now for loading the model and testing"
   ]
  },
  {
   "cell_type": "code",
   "execution_count": 13,
   "metadata": {},
   "outputs": [
    {
     "data": {
      "text/plain": [
       "<All keys matched successfully>"
      ]
     },
     "execution_count": 13,
     "metadata": {},
     "output_type": "execute_result"
    }
   ],
   "source": [
    "net = Net()\n",
    "net.load_state_dict(torch.load(PATH, weights_only=True))"
   ]
  },
  {
   "cell_type": "code",
   "execution_count": 14,
   "metadata": {},
   "outputs": [
    {
     "name": "stdout",
     "output_type": "stream",
     "text": [
      "Accuracy of the network on the 10000 test images: 55 %\n"
     ]
    }
   ],
   "source": [
    "correct = 0\n",
    "total = 0\n",
    "# since we're not training, we don't need to calculate the gradients for our outputs\n",
    "with torch.no_grad():\n",
    "    for data in testloader:\n",
    "        images, labels = data\n",
    "        # calculate outputs by running images through the network\n",
    "        outputs = net(images)\n",
    "        # the class with the highest energy is what we choose as prediction\n",
    "        _, predicted = torch.max(outputs, 1)\n",
    "        total += labels.size(0)\n",
    "        correct += (predicted == labels).sum().item()\n",
    "\n",
    "print(f'Accuracy of the network on the 10000 test images: {100 * correct // total} %')"
   ]
  },
  {
   "cell_type": "markdown",
   "metadata": {},
   "source": [
    "Okay, now that we are done with this, time to modify the architecture and see model performance"
   ]
  }
 ],
 "metadata": {
  "kernelspec": {
   "display_name": "Python 3",
   "language": "python",
   "name": "python3"
  },
  "language_info": {
   "codemirror_mode": {
    "name": "ipython",
    "version": 3
   },
   "file_extension": ".py",
   "mimetype": "text/x-python",
   "name": "python",
   "nbconvert_exporter": "python",
   "pygments_lexer": "ipython3",
   "version": "3.12.0"
  }
 },
 "nbformat": 4,
 "nbformat_minor": 2
}
